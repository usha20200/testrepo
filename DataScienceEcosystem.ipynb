{
 "cells": [
  {
   "cell_type": "markdown",
   "id": "e516a174-9cc6-46a7-b2b3-5d846c2e21ae",
   "metadata": {},
   "source": [
    "# Data Science Tools and Ecosystem Overview\n",
    "\n",
    "In this notebook, we provide a comprehensive summary of the essential tools and the overall ecosystem in the field of data science. Explore the key components that empower data scientists and analysts, enabling them to harness the potential of data for valuable insights and informed decision-making.\n"
   ]
  },
  {
   "cell_type": "markdown",
   "id": "ca29cfe4-200d-48fd-b7d1-a050544c4ede",
   "metadata": {},
   "source": [
    "# Data Science Programming Languages\n",
    "\n",
    "Some of the popular languages that Data Scientists use are:\n",
    "\n",
    "1. **Python**: Renowned for its simplicity and versatility, Python has become the de facto language in the data science community, offering a vast ecosystem of libraries and frameworks like Pandas, NumPy, and scikit-learn.\n",
    "\n",
    "2. **R**: Widely adopted in statistical computing and data analysis, R provides a robust environment for exploring and visualizing data, making it a favored language among statisticians and data analysts.\n",
    "\n",
    "3. **SQL (Structured Query Language)**: Essential for database management, SQL is a standard language for interacting with relational databases, playing a crucial role in data retrieval and manipulation.\n",
    "\n",
    "4. **Julia**: Emerging as a high-performance language for technical computing, Julia combines the ease of use of Python with the speed of languages like C and Fortran, making it increasingly popular in data science and numerical computing.\n"
   ]
  },
  {
   "cell_type": "markdown",
   "id": "f98870ed-8168-4ecf-8e9d-d9fdeb89eb57",
   "metadata": {},
   "source": [
    "# Commonly Used Data Science Libraries\n",
    "\n",
    "Some of the commonly used libraries by Data Scientists include:\n",
    "\n",
    "1. **Pandas**: A powerful data manipulation and analysis library for Python, Pandas provides data structures like DataFrames that facilitate efficient data cleaning, exploration, and manipulation.\n",
    "\n",
    "2. **NumPy**: The fundamental package for scientific computing with Python, NumPy enables the use of multi-dimensional arrays and matrices, along with a collection of mathematical functions to operate on these arrays.\n",
    "\n",
    "3. **scikit-learn**: A versatile machine learning library for Python, scikit-learn offers simple and efficient tools for data mining and data analysis. It includes various algorithms for classification, regression, clustering, and more.\n",
    "\n",
    "4. **TensorFlow**: Developed by Google, TensorFlow is an open-source machine learning library that facilitates the creation and training of deep learning models, making it a cornerstone in the field of neural network development.\n",
    "\n",
    "5. **Matplotlib**: A widely-used plotting library for Python, Matplotlib provides a comprehensive set of static, animated, and interactive visualizations, making it essential for data exploration and presentation.\n"
   ]
  },
  {
   "cell_type": "markdown",
   "id": "b1eab12f-742f-48ba-a229-4f6d3ddf7a0b",
   "metadata": {},
   "source": [
    "# Data Science Tools\n",
    "\n",
    "| Data Science Tools               |\n",
    "|----------------------------------|\n",
    "| Jupyter Notebooks                |\n",
    "| RStudio                          |\n",
    "| Spyder (Scientific PYthon Development EnviRonment)  |\n"
   ]
  },
  {
   "cell_type": "markdown",
   "id": "2ba80d10-06a9-46d1-be8f-a6745b8cbe8b",
   "metadata": {},
   "source": [
    "# Arithmetic Expressions Examples\n",
    "\n",
    "### Below are a few examples of evaluating arithmetic expressions in Python.\n"
   ]
  },
  {
   "cell_type": "code",
   "execution_count": 4,
   "id": "d38ff77b-aa1b-4cbc-82cc-f02199ba0d09",
   "metadata": {
    "tags": []
   },
   "outputs": [
    {
     "data": {
      "text/plain": [
       "17"
      ]
     },
     "execution_count": 4,
     "metadata": {},
     "output_type": "execute_result"
    }
   ],
   "source": [
    "# This is a simple arithmetic expression to multiply and then add integers.\n",
    "result = (3 * 4) + 5\n",
    "result\n"
   ]
  },
  {
   "cell_type": "code",
   "execution_count": 5,
   "id": "d8eac932-a3af-462b-8d11-a3a7344640a9",
   "metadata": {
    "tags": []
   },
   "outputs": [
    {
     "data": {
      "text/plain": [
       "3.3333333333333335"
      ]
     },
     "execution_count": 5,
     "metadata": {},
     "output_type": "execute_result"
    }
   ],
   "source": [
    "# This will convert 200 minutes to hours by dividing by 60.\n",
    "minutes = 200\n",
    "hours = minutes / 60\n",
    "hours\n"
   ]
  },
  {
   "cell_type": "markdown",
   "id": "ce066555-44e4-4134-95ac-ef6db146a9e9",
   "metadata": {},
   "source": [
    "# Objectives:\n",
    "\n",
    "**In this notebook, we covered the following objectives:**\n",
    "\n",
    "- List popular languages for Data Science.\n",
    "- Highlight commonly used libraries in Data Science.\n",
    "- Provide an overview of common Data Science tools.\n",
    "- Demonstrate evaluation of arithmetic expressions in Python.\n",
    "- Illustrate a practical conversion from minutes to hours.\n"
   ]
  },
  {
   "cell_type": "markdown",
   "id": "e329fd27-d7d4-42f1-b251-7d8ebd6ecc3b",
   "metadata": {},
   "source": [
    "## Author\n",
    "\n",
    "USHA \n"
   ]
  },
  {
   "cell_type": "code",
   "execution_count": null,
   "id": "150f6f41-3593-42a3-986e-ca3b6ef2b778",
   "metadata": {},
   "outputs": [],
   "source": []
  }
 ],
 "metadata": {
  "kernelspec": {
   "display_name": "Python",
   "language": "python",
   "name": "conda-env-python-py"
  },
  "language_info": {
   "codemirror_mode": {
    "name": "ipython",
    "version": 3
   },
   "file_extension": ".py",
   "mimetype": "text/x-python",
   "name": "python",
   "nbconvert_exporter": "python",
   "pygments_lexer": "ipython3",
   "version": "3.7.12"
  }
 },
 "nbformat": 4,
 "nbformat_minor": 5
}
